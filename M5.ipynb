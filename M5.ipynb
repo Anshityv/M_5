{
  "nbformat": 4,
  "nbformat_minor": 0,
  "metadata": {
    "colab": {
      "provenance": []
    },
    "kernelspec": {
      "name": "python3",
      "display_name": "Python 3"
    },
    "language_info": {
      "name": "python"
    }
  },
  "cells": [
    {
      "cell_type": "markdown",
      "source": [
        "Theory Questions"
      ],
      "metadata": {
        "id": "LbL2DrVLDueN"
      }
    },
    {
      "cell_type": "markdown",
      "source": [
        "1. What is Object-Oriented Programming (OOP)\n",
        "- Object-Oriented Programming (OOP) is a programming paradigm, or style, that's built around the concept of \"objects\". These objects are like containers that hold both data (called attributes or properties) and the code that acts on that data (called methods or functions).\n",
        "\n",
        "2. What is a class in OOP\n",
        "- Class: A blueprint or template that defines the structure and behavior of objects. (Like a house plan)\n",
        "\n",
        "3. What is an object in OOP\n",
        "- Object: A specific realization of that blueprint. It's a concrete entity created based on the class definition. (Like a house built from the plan).\n",
        "\n",
        "4. What is the difference between abstraction and encapsulation\n",
        "- Abstraction:\n",
        "\n",
        "Focus: Hiding complex implementation details and showing only essential information to the user.\n",
        "\n",
        "Goal: Simplifying interactions with objects by providing a high-level view, like a user interface.\n",
        "\n",
        "How it's achieved: Using abstract classes and interfaces to define common behaviors without specifying how they are implemented.\n",
        "\n",
        "Analogy: Think of a car's steering wheel. You turn it to change direction, but you don't need to know the intricate mechanics of how the steering system actually works.\n",
        "\n",
        "Encapsulation:\n",
        "\n",
        "Focus: Bundling data (attributes) and methods that operate on that data within a single unit (the class).\n",
        "\n",
        "Goal: Protecting data integrity and controlling access to it.\n",
        "\n",
        "How it's achieved: Using access modifiers (like public, private, protected) to restrict access to internal data and methods.\n",
        "\n",
        "Analogy: Think of a capsule containing medicine. The medicine (data) is enclosed and protected by the outer shell (class), and you access it through specific methods (like opening the capsule).\n",
        "\n",
        "5. What are dunder methods in Python\n",
        "- In Python, dunder methods (also called \"special methods\" or \"magic methods\") are methods with double underscores () before and after their names, like `init__,str, andadd`.\n",
        "\n",
        "6.  Explain the concept of inheritance in OOP\n",
        "-  Inheritance is a fundamental principle in OOP that allows you to create new classes (called derived classes or subclasses) based on existing classes (called base classes or superclasses). The derived class inherits the attributes and methods of the base class, and can also add its own unique features.\n",
        "\n",
        "7. What is polymorphism in OOP\n",
        "- Polymorphism, meaning \"many forms,\" is a key principle in OOP that allows objects of different classes to be treated as objects of a common type. This enables you to write code that can work with a variety of objects without needing to know their specific class.\n",
        "\n",
        "8. How is encapsulation achieved in Python\n",
        "- Encapsulation, a core principle in Object-Oriented Programming (OOP), focuses on bundling data (attributes) and methods that operate on that data within a single unit (the class). It aims to protect data integrity and control access to it.\n",
        "\n",
        "In Python, encapsulation is achieved primarily through conventions and programming practices rather than strict enforcement like in some other languages.\n",
        "\n",
        "9. What is a constructor in Python\n",
        "- n Python, a constructor is a special method called __init__ that is automatically called when an object of a class is created. It's responsible for initializing the object's attributes with initial values.\n",
        "\n",
        "10. What are class and static methods in Python\n",
        "- Class Methods:\n",
        "Bound to the Class: Class methods are bound to the class itself, not to any specific object. They receive the class as the first argument (conventionally named cls).\n",
        "\n",
        "Accessing Class-Level Data: They can access and modify class-level data (attributes shared by all instances of the class).\n",
        "\n",
        "Creating Factory Methods: They are often used to create factory methods, which are alternative ways to create objects of the class.\n",
        "\n",
        "Decorator: Defined using the @classmethod decorator.\n",
        "\n",
        "Static Methods:\n",
        "No Implicit Arguments: Static methods are not bound to the class or any object. They don't receive any implicit arguments like self or cls.\n",
        "\n",
        "Utility Functions: They are typically used for utility functions that are related to the class but don't need access to instance or class data.\n",
        "\n",
        "Decorator: Defined using the @staticmethod decorator.\n",
        "\n",
        "11. What is method overloading in Python\n",
        "- Method overloading, a concept common in languages like Java and C++, refers to the ability to define multiple methods within a class with the same name but different parameters. This allows you to call the same method with different types or numbers of arguments, and the appropriate version is executed based on the context.\n",
        "\n",
        "12. What is method overriding in OOP\n",
        "- Method overriding is a powerful feature in OOP that allows a subclass (or derived class) to provide a specific implementation for a method that is already defined in its superclass (or base class). This means that when you call the method on an object of the subclass, the overridden version in the subclass is executed instead of the original version in the superclass.\n",
        "\n",
        "13. What is a property decorator in Python\n",
        "- In Python, the property decorator is a built-in tool that allows you to define methods that act like attributes. It provides a way to manage attribute access and modification with more control and flexibility.\n",
        "\n",
        "14. Why is polymorphism important in OOP\n",
        "- polymorphism is essential in OOP because it:\n",
        "Promotes flexibility and extensibility\n",
        "\n",
        "Enhances code reusability\n",
        "\n",
        "Reduces coupling between components\n",
        "\n",
        "Improves maintainability\n",
        "\n",
        "Enhances code readability\n",
        "\n",
        "15. What is an abstract class in Python\n",
        "- In Python, an abstract class is a class that cannot be instantiated on its own. It's meant to be a blueprint for other classes (called concrete classes) to inherit from. Abstract classes often define abstract methods, which are declared but have no implementation. Concrete classes that inherit from an abstract class must provide implementations for these abstract methods.\n",
        "\n",
        "16. What are the advantages of OOP\n",
        "- OOP offers several advantages:\n",
        "\n",
        "Modularity and reusability\n",
        "\n",
        "Data encapsulation and security\n",
        "\n",
        "Flexibility and maintainability\n",
        "\n",
        "Improved code organization and readability\n",
        "\n",
        "Increased productivity and collaboration\n",
        "\n",
        "Real-world modeling\n",
        "\n",
        "Polymorphism and flexibility\n",
        "\n",
        "17. F What is the difference between a class variable and an instance variable\n",
        "- Class Variables:\n",
        "\n",
        "Shared among all instances: Class variables are declared within the class but outside of any methods. They are shared by all instances (objects) of the class.\n",
        "\n",
        "Accessed using the class name: You can access class variables using the class name or an instance of the class.\n",
        "\n",
        "Modified through the class or an instance: Changes made to a class variable through the class or an instance are reflected in all other instances.\n",
        "\n",
        "Instance Variables:\n",
        "\n",
        "Unique to each instance: Instance variables are declared within the constructor (__init__) method and are specific to each object of the class.\n",
        "\n",
        "Accessed using the instance: You can only access instance variables through an instance of the class.\n",
        "\n",
        "Modified only through the instance: Changes made to an instance variable only affect that specific instance.\n",
        "\n",
        "18.  What is multiple inheritance in Python\n",
        "-  Multiple inheritance is a feature in object-oriented programming where a     class can inherit from multiple base classes. This allows a class to combine functionality from different sources, promoting code reuse and flexibility.\n",
        "\n",
        "19. Explain the purpose of ‘’__str__’ and ‘__repr__’ ‘ methods in Python\n",
        "- Both __str__ and __repr__ are special methods (also called dunder methods) that are used to define string representations of objects in Python. They serve different purposes and are used in different contexts:\n",
        "\n",
        "__str__ Method:\n",
        "\n",
        "Purpose: To provide a user-friendly, informal string representation of an object. It's intended for human consumption and should be easily readable.\n",
        "\n",
        "Usage: Called by the str() built-in function and the print() function to display an object.\n",
        "\n",
        "__repr__ Method:\n",
        "\n",
        "Purpose: To provide a more formal, unambiguous string representation of an object. It's intended for developers and should be detailed enough to recreate the object.\n",
        "\n",
        "Usage: Called by the repr() built-in function and in interactive sessions when an object is inspected.\n",
        "\n",
        "20. What is the significance of the ‘super()’ function in Python\n",
        "- Calling Parent Class Methods: super() allows you to explicitly call a method from the parent class, even if the subclass has overridden that method. This is useful when you want to extend the parent class's functionality rather than completely replacing it.\n",
        "\n",
        "Avoiding Code Duplication: When you inherit from a parent class, you often want to reuse some of its code in your subclass. super() helps you avoid rewriting the same logic by allowing you to call the parent class's method and then add your own specific behavior.\n",
        "\n",
        "Maintaining Method Resolution Order (MRO): In cases of multiple inheritance, super() ensures that methods are called in the correct order according to Python's Method Resolution Order (MRO). This helps avoid potential conflicts and ensures that all parent classes' methods are executed.\n",
        "\n",
        "21. What is the significance of the __del__ method in Python\n",
        "-  Significance:\n",
        "\n",
        "Resource cleanup: The primary significance of the __del__ method is to perform cleanup actions before an object is removed from memory. This might involve releasing resources like:\n",
        "\n",
        "- Closing open files\n",
        "- Releasing network connections\n",
        "- Cleaning up temporary files\n",
        "\n",
        "Last resort: It's important to understand that __del__ is not guaranteed to be called in all cases, especially when the program exits abruptly. Therefore, it's best practice to use dedicated methods (like close() for files) for resource management and consider __del__ as a last resort for cleanup if other methods weren't called explicitly.\n",
        "\n",
        "22. What is the difference between @staticmethod and @classmethod in Python\n",
        "- @staticmethod\n",
        "\n",
        "Definition: A static method is a method that belongs to a class but doesn't have access to the instance (self) or the class (cls) itself. It's like a regular function but grouped within a class for logical organization.\n",
        "\n",
        "Usage: Static methods are typically used for utility functions related to the class but don't need to interact with instance or class data.\n",
        "\n",
        "@classmethod\n",
        "\n",
        "Definition: A class method is a method that receives the class (cls) as the first argument instead of the instance (self). It can access and modify class-level data.\n",
        "\n",
        "Usage: Class methods are often used for factory methods (alternative ways to create objects of the class) and operations related to the class itself.\n",
        "\n",
        "23.  How does polymorphism work in Python with inheritance\n",
        "- how it works:\n",
        "\n",
        "Inheritance: A subclass inherits attributes and methods from its parent class. This establishes a relationship where the subclass is considered a type of the parent class.\n",
        "\n",
        "Method Overriding: A subclass can provide its own implementation for a method that is already defined in its parent class. This is called method overriding.\n",
        "\n",
        "Polymorphic Behavior: When a method is called on an object, Python determines the correct version of the method to execute based on the object's actual class. This is where polymorphism comes into play.\n",
        "\n",
        "24. What is method chaining in Python OOP\n",
        "- Method chaining is a technique in object-oriented programming where you can call multiple methods on an object sequentially in a single line of code. This is achieved by having each method return the object itself (self) after performing its operation.\n",
        "\n",
        "25. What is the purpose of the __call__ method in Python\n",
        "- The __call__ method is a special method in Python classes that allows you to make objects callable like functions. When you define the __call__ method in a class, you can then use instances of that class as if they were functions.\n",
        "\n",
        "Purpose:\n",
        "\n",
        "Callable Objects: The primary purpose of the __call__ method is to enable objects to be called like functions. This means you can use the object's name followed by parentheses to invoke the __call__ method, just like you would with a function.\n",
        "\n",
        "Function-like Behavior: This allows objects to have behavior similar to functions, making them more versatile and allowing them to be used in places where functions are expected.\n",
        "\n",
        "Statefulness: Objects with a __call__ method can maintain internal state, making them useful for scenarios where you need to store and manipulate data between calls."
      ],
      "metadata": {
        "id": "_kex8hLA6s9M"
      }
    },
    {
      "cell_type": "markdown",
      "source": [
        "Practical Questions"
      ],
      "metadata": {
        "id": "asNswjPnDMCZ"
      }
    },
    {
      "cell_type": "code",
      "source": [
        "# 1. Create a parent class Animal with a method speak() that prints a generic message. Create a child class Dog that overrides the speak() method to print \"Bark!\"\n",
        "class Animal:\n",
        "    def speak(self):\n",
        "        print(\"Generic animal sound\")\n",
        "\n",
        "class Dog(Animal):\n",
        "    def speak(self):\n",
        "        print(\"Bark!\")\n",
        "\n",
        "animal = Animal()\n",
        "animal.speak()\n",
        "\n",
        "dog = Dog()\n",
        "dog.speak()\n"
      ],
      "metadata": {
        "colab": {
          "base_uri": "https://localhost:8080/"
        },
        "id": "kdxTA9PED1Hs",
        "outputId": "75d6810b-8010-4495-e71f-c8e61c831b8d"
      },
      "execution_count": 2,
      "outputs": [
        {
          "output_type": "stream",
          "name": "stdout",
          "text": [
            "Generic animal sound\n",
            "Bark!\n"
          ]
        }
      ]
    },
    {
      "cell_type": "code",
      "source": [
        "#2. Write a program to create an abstract class Shape with a method area(). Derive classes Circle and Rectangle from it and implement the area() method in both.\n",
        "from abc import ABC, abstractmethod\n",
        "import math\n",
        "\n",
        "class Shape(ABC):\n",
        "    @abstractmethod\n",
        "    def area(self):\n",
        "        pass\n",
        "\n",
        "class Circle(Shape):\n",
        "    def __init__(self, radius):\n",
        "        self.radius = radius\n",
        "\n",
        "    def area(self):\n",
        "        return math.pi * self.radius**2\n",
        "\n",
        "class Rectangle(Shape):\n",
        "    def __init__(self, length, width):\n",
        "        self.length = length\n",
        "        self.width = width\n",
        "\n",
        "    def area(self):\n",
        "        return self.length * self.width\n",
        "\n",
        "circle = Circle(5)\n",
        "rectangle = Rectangle(4, 6)\n",
        "\n",
        "print(f\"Area of circle: {circle.area()}\")\n",
        "print(f\"Area of rectangle: {rectangle.area()}\")\n",
        "\n",
        "\n"
      ],
      "metadata": {
        "colab": {
          "base_uri": "https://localhost:8080/"
        },
        "id": "3LxCTcvQD1F5",
        "outputId": "57406ac8-d869-46e8-9472-1688d1c27d5f"
      },
      "execution_count": 3,
      "outputs": [
        {
          "output_type": "stream",
          "name": "stdout",
          "text": [
            "Area of circle: 78.53981633974483\n",
            "Area of rectangle: 24\n"
          ]
        }
      ]
    },
    {
      "cell_type": "code",
      "source": [
        "#3.&& 4. Implement a multi-level inheritance scenario where a class Vehicle has an attribute type. Derive a class Car and further derive a class ElectricCar that adds a battery attr0ibute.\n",
        "class Vehicle:\n",
        "    def __init__(self, type):\n",
        "        self.type = type\n",
        "\n",
        "class Car(Vehicle):\n",
        "    def __init__(self, type, brand):\n",
        "        super().__init__(type)\n",
        "        self.brand = brand\n",
        "\n",
        "class ElectricCar(Car):\n",
        "    def __init__(self, type, brand, battery):\n",
        "        super().__init__(type, brand)\n",
        "        self.battery = battery\n",
        "\n",
        "my_electric_car = ElectricCar(\"Electric\", \"Tesla\", \"Lithium-ion\")\n",
        "\n",
        "print(f\"Type: {my_electric_car.type}\")\n",
        "print(f\"Brand: {my_electric_car.brand}\")\n",
        "print(f\"Battery: {my_electric_car.battery}\")"
      ],
      "metadata": {
        "colab": {
          "base_uri": "https://localhost:8080/"
        },
        "id": "fUoY7TPaD1EF",
        "outputId": "797670af-1d7e-4e68-f0b3-84839cdfff60"
      },
      "execution_count": 4,
      "outputs": [
        {
          "output_type": "stream",
          "name": "stdout",
          "text": [
            "Type: Electric\n",
            "Brand: Tesla\n",
            "Battery: Lithium-ion\n"
          ]
        }
      ]
    },
    {
      "cell_type": "markdown",
      "source": [],
      "metadata": {
        "id": "hYFLwv7YD0-v"
      }
    },
    {
      "cell_type": "code",
      "source": [
        "\n",
        "#5.  Write a program to demonstrate encapsulation by creating a class BankAccount with private attributes balance and methods to deposit, withdraw, and check balance\n",
        "class BankAccount:\n",
        "    def __init__(self, initial_balance=0):\n",
        "        self.__balance = initial_balance\n",
        "\n",
        "    def deposit(self, amount):\n",
        "        if amount > 0:\n",
        "            self.__balance += amount\n",
        "            print(f\"Deposited: ${amount:.2f}\")\n",
        "        else:\n",
        "            print(\"Invalid deposit amount.\")\n",
        "\n",
        "    def withdraw(self, amount):\n",
        "        if 0 < amount <= self.__balance:\n",
        "            self.__balance -= amount\n",
        "            print(f\"Withdrew: ${amount:.2f}\")\n",
        "        else:\n",
        "            print(\"Insufficient funds or invalid withdrawal amount.\")\n",
        "\n",
        "    def check_balance(self):\n",
        "        print(f\"Current balance: ${self.__balance:.2f}\")\n",
        "\n",
        "# Create an account\n",
        "account = BankAccount(1000)\n",
        "\n",
        "# Perform operations\n",
        "account.deposit(500)\n",
        "account.withdraw(200)\n",
        "account.check_balance()"
      ],
      "metadata": {
        "colab": {
          "base_uri": "https://localhost:8080/"
        },
        "id": "M1KEhzIdD06q",
        "outputId": "e193a567-a5f9-45fc-dd1d-d05498040c66"
      },
      "execution_count": 5,
      "outputs": [
        {
          "output_type": "stream",
          "name": "stdout",
          "text": [
            "Deposited: $500.00\n",
            "Withdrew: $200.00\n",
            "Current balance: $1300.00\n"
          ]
        }
      ]
    },
    {
      "cell_type": "code",
      "source": [
        "#6.  Demonstrate runtime polymorphism using a method play() in a base class Instrument. Derive classes Guitar and Piano that implement their own version of play().\n",
        "class Instrument:\n",
        "    def play(self):\n",
        "        print(\"Playing a generic instrument\")\n",
        "\n",
        "class Guitar(Instrument):\n",
        "    def play(self):\n",
        "        print(\"Strumming the guitar\")\n",
        "\n",
        "class Piano(Instrument):\n",
        "    def play(self):\n",
        "        print(\"Playing the piano keys\")\n",
        "\n",
        "# Create instances\n",
        "instrument = Instrument()\n",
        "guitar = Guitar()\n",
        "piano = Piano()\n",
        "\n",
        "# Demonstrate polymorphism\n",
        "for inst in [instrument, guitar, piano]:\n",
        "    inst.play()"
      ],
      "metadata": {
        "colab": {
          "base_uri": "https://localhost:8080/"
        },
        "id": "DuPfM34YD04x",
        "outputId": "dbd0cea8-4bc5-498f-a7bc-f74b62222fde"
      },
      "execution_count": 6,
      "outputs": [
        {
          "output_type": "stream",
          "name": "stdout",
          "text": [
            "Playing a generic instrument\n",
            "Strumming the guitar\n",
            "Playing the piano keys\n"
          ]
        }
      ]
    },
    {
      "cell_type": "code",
      "source": [
        "# 7.. Create a class MathOperations with a class method add_numbers() to add two numbers and a static method subtract_numbers() to subtract two numbers\n",
        "class MathOperations:\n",
        "    @classmethod\n",
        "    def add_numbers(cls, num1, num2):\n",
        "        return num1 + num2\n",
        "\n",
        "    @staticmethod\n",
        "    def subtract_numbers(num1, num2):\n",
        "        return num1 - num2\n",
        "\n",
        "# Using the methods\n",
        "result_add = MathOperations.add_numbers(5, 3)  # Calling class method\n",
        "result_subtract = MathOperations.subtract_numbers(10, 4)  # Calling static method\n",
        "\n",
        "print(f\"Addition result: {result_add}\")\n",
        "print(f\"Subtraction result: {result_subtract}\")"
      ],
      "metadata": {
        "colab": {
          "base_uri": "https://localhost:8080/"
        },
        "id": "ocfOZX1QD01D",
        "outputId": "07c70f6f-b64a-4acb-898e-0db9e1a733d3"
      },
      "execution_count": 7,
      "outputs": [
        {
          "output_type": "stream",
          "name": "stdout",
          "text": [
            "Addition result: 8\n",
            "Subtraction result: 6\n"
          ]
        }
      ]
    },
    {
      "cell_type": "code",
      "source": [
        "#8. Implement a class Person with a class method to count the total number of persons created.\n",
        "class Person:\n",
        "    count = 0  # Class variable to store the count\n",
        "\n",
        "    def __init__(self, name):\n",
        "        self.name = name\n",
        "        Person.count += 1  # Increment count when a new Person is created\n",
        "\n",
        "    @classmethod\n",
        "    def get_total_persons(cls):\n",
        "        return cls.count\n",
        "\n",
        "# Create some Person objects\n",
        "person1 = Person(\"Alice\")\n",
        "person2 = Person(\"Bob\")\n",
        "person3 = Person(\"Charlie\")\n",
        "\n",
        "# Get the total number of persons\n",
        "total_persons = Person.get_total_persons()\n",
        "print(f\"Total persons created: {total_persons}\")"
      ],
      "metadata": {
        "colab": {
          "base_uri": "https://localhost:8080/"
        },
        "id": "4Mwh9cMsD0yt",
        "outputId": "1362bdc9-9346-431e-a801-a83ab7cfbb6f"
      },
      "execution_count": 8,
      "outputs": [
        {
          "output_type": "stream",
          "name": "stdout",
          "text": [
            "Total persons created: 3\n"
          ]
        }
      ]
    },
    {
      "cell_type": "code",
      "source": [
        "#9. Write a class Fraction with attributes numerator and denominator. Override the str method to display the fraction as \"numerator/denominator\".\n",
        "class Fraction:\n",
        "    def __init__(self, numerator, denominator):\n",
        "        self.numerator = numerator\n",
        "        self.denominator = denominator\n",
        "\n",
        "    def __str__(self):\n",
        "        return f\"{self.numerator}/{self.denominator}\"\n",
        "\n",
        "# Create a Fraction object\n",
        "fraction = Fraction(3, 4)\n",
        "print(fraction)"
      ],
      "metadata": {
        "colab": {
          "base_uri": "https://localhost:8080/"
        },
        "id": "FDVhN4JoD0v3",
        "outputId": "1ae2f657-b302-4486-d201-2791397a97fb"
      },
      "execution_count": 9,
      "outputs": [
        {
          "output_type": "stream",
          "name": "stdout",
          "text": [
            "3/4\n"
          ]
        }
      ]
    },
    {
      "cell_type": "code",
      "source": [
        "#10. Demonstrate operator overloading by creating a class Vector and overriding the add method to add two vectors.\n",
        "class Vector:\n",
        "    def __init__(self, x, y):\n",
        "        self.x = x\n",
        "        self.y = y\n",
        "\n",
        "    def __add__(self, other):\n",
        "        return Vector(self.x + other.x, self.y + other.y)\n",
        "\n",
        "    def __str__(self):\n",
        "        return f\"({self.x}, {self.y})\"\n",
        "\n",
        "# Create Vector objects\n",
        "v1 = Vector(2, 3)\n",
        "v2 = Vector(4, 5)\n",
        "\n",
        "v3 = v1 + v2\n",
        "\n",
        "# Print the result\n",
        "print(f\"v1 + v2 = {v3}\")"
      ],
      "metadata": {
        "colab": {
          "base_uri": "https://localhost:8080/"
        },
        "id": "7s7vFpt1D0tY",
        "outputId": "5f643926-2175-4b20-da84-8802d501e638"
      },
      "execution_count": 10,
      "outputs": [
        {
          "output_type": "stream",
          "name": "stdout",
          "text": [
            "v1 + v2 = (6, 8)\n"
          ]
        }
      ]
    },
    {
      "cell_type": "code",
      "source": [
        "# 11 Create a class Person with attributes name and age. Add a method greet() that prints \"Hello, my name is {name} and I am {age} years old.\n",
        "\n",
        "class Person:\n",
        "    def __init__(self, name, age):\n",
        "        self.name = name\n",
        "        self.age = age\n",
        "\n",
        "    def greet(self):\n",
        "        print(f\"Hello, my name is {self.name} and I am {self.age} years old.\")\n",
        "\n",
        "# Create a Person object\n",
        "person = Person(\"Alice\", 30)\n",
        "person.greet()"
      ],
      "metadata": {
        "colab": {
          "base_uri": "https://localhost:8080/"
        },
        "id": "hBxa3aQiGpR9",
        "outputId": "1bd22ea0-c35f-4fb3-f594-55e667b9e9cb"
      },
      "execution_count": 12,
      "outputs": [
        {
          "output_type": "stream",
          "name": "stdout",
          "text": [
            "Hello, my name is Alice and I am 30 years old.\n"
          ]
        }
      ]
    },
    {
      "cell_type": "code",
      "source": [
        "#12. Implement a class Student with attributes name and grades. Create a method average_grade() to compute the average of the grades.\n",
        "class Student:\n",
        "    def __init__(self, name, grades):\n",
        "        self.name = name\n",
        "        self.grades = grades\n",
        "\n",
        "    def average_grade(self):\n",
        "        if self.grades:  # Check if grades list is not empty\n",
        "            return sum(self.grades) / len(self.grades)\n",
        "        else:\n",
        "            return 0  # Handle empty grades list\n",
        "\n",
        "student = Student(\"Bob\", [85, 90, 78, 92])\n",
        "average = student.average_grade()\n",
        "print(f\"{student.name}'s average grade: {average}\")"
      ],
      "metadata": {
        "colab": {
          "base_uri": "https://localhost:8080/"
        },
        "id": "Dp1BOFxfGpPx",
        "outputId": "b8ae08c5-c369-43df-be0d-3f21570a8cc8"
      },
      "execution_count": 13,
      "outputs": [
        {
          "output_type": "stream",
          "name": "stdout",
          "text": [
            "Bob's average grade: 86.25\n"
          ]
        }
      ]
    },
    {
      "cell_type": "code",
      "source": [
        "#13. Create a class Rectangle with methods set_dimensions() to set the dimensions and area() to calculate the area.\n",
        "class Rectangle:\n",
        "    def __init__(self, length=0, width=0):  # Initialize with default values\n",
        "        self.length = length\n",
        "        self.width = width\n",
        "\n",
        "    def set_dimensions(self, length, width):\n",
        "        self.length = length\n",
        "        self.width = width\n",
        "\n",
        "    def area(self):\n",
        "        return self.length * self.width\n",
        "\n",
        "rectangle = Rectangle()\n",
        "rectangle.set_dimensions(5, 4)\n",
        "area = rectangle.area()\n",
        "print(f\"Area of the rectangle: {area}\")"
      ],
      "metadata": {
        "colab": {
          "base_uri": "https://localhost:8080/"
        },
        "id": "9wBYL8F3GpNf",
        "outputId": "c0f3f813-5ed1-4184-8226-fe27d137b227"
      },
      "execution_count": 14,
      "outputs": [
        {
          "output_type": "stream",
          "name": "stdout",
          "text": [
            "Area of the rectangle: 20\n"
          ]
        }
      ]
    },
    {
      "cell_type": "code",
      "source": [
        "# 14. Create a class Employee with a method calculate_salary() that computes the salary based on hours worked and hourly rate. Create a derived class Manager that adds a bonus to the salary\n",
        "\n",
        "class Employee:\n",
        "    def __init__(self, name, hours_worked, hourly_rate):\n",
        "        self.name = name\n",
        "        self.hours_worked = hours_worked\n",
        "        self.hourly_rate = hourly_rate\n",
        "\n",
        "    def calculate_salary(self):\n",
        "        return self.hours_worked * self.hourly_rate\n",
        "\n",
        "class Manager(Employee):\n",
        "    def __init__(self, name, hours_worked, hourly_rate, bonus):\n",
        "        super().__init__(name, hours_worked, hourly_rate)\n",
        "        self.bonus = bonus\n",
        "\n",
        "    def calculate_salary(self):\n",
        "        base_salary = super().calculate_salary()\n",
        "        return base_salary + self.bonus\n",
        "\n",
        "employee = Employee(\"Alice\", 40, 15)\n",
        "manager = Manager(\"Bob\", 45, 20, 1000)\n",
        "\n",
        "print(f\"{employee.name}'s salary: ${employee.calculate_salary()}\")\n",
        "print(f\"{manager.name}'s salary: ${manager.calculate_salary()}\")"
      ],
      "metadata": {
        "colab": {
          "base_uri": "https://localhost:8080/"
        },
        "id": "PJ2SjshDGpLi",
        "outputId": "14afefdc-2fae-4b44-bb3e-3c8b4b6369ea"
      },
      "execution_count": 15,
      "outputs": [
        {
          "output_type": "stream",
          "name": "stdout",
          "text": [
            "Alice's salary: $600\n",
            "Bob's salary: $1900\n"
          ]
        }
      ]
    },
    {
      "cell_type": "code",
      "source": [
        "# 15. Create a class Product with attributes name, price, and quantity. Implement a method total_price() that calculates the total price of the product.\n",
        "class Product:\n",
        "    def __init__(self, name, price, quantity):\n",
        "        self.name = name\n",
        "        self.price = price\n",
        "        self.quantity = quantity\n",
        "\n",
        "    def total_price(self):\n",
        "        return self.price * self.quantity\n",
        "\n",
        "product = Product(\"Laptop\", 1200, 2)\n",
        "total_cost = product.total_price()\n",
        "print(f\"Total price of {product.name}: ${total_cost}\")"
      ],
      "metadata": {
        "colab": {
          "base_uri": "https://localhost:8080/"
        },
        "id": "SaQmJW6pGpDe",
        "outputId": "e94740a5-8a1b-48ad-e2bb-1d04e56adade"
      },
      "execution_count": 16,
      "outputs": [
        {
          "output_type": "stream",
          "name": "stdout",
          "text": [
            "Total price of Laptop: $2400\n"
          ]
        }
      ]
    },
    {
      "cell_type": "code",
      "source": [
        "#16. Create a class Animal with an abstract method sound(). Create two derived classes Cow and Sheep that implement the sound() method.\n",
        "from abc import ABC, abstractmethod\n",
        "\n",
        "class Animal(ABC):\n",
        "    @abstractmethod\n",
        "    def sound(self):\n",
        "        pass\n",
        "\n",
        "class Cow(Animal):\n",
        "    def sound(self):\n",
        "        print(\"Moo!\")\n",
        "\n",
        "class Sheep(Animal):\n",
        "    def sound(self):\n",
        "        print(\"Baa!\")\n",
        "cow = Cow()\n",
        "sheep = Sheep()\n",
        "cow.sound()\n",
        "sheep.sound()"
      ],
      "metadata": {
        "colab": {
          "base_uri": "https://localhost:8080/"
        },
        "id": "RmEnYfVQGpBJ",
        "outputId": "91b6e1ab-d220-4e5a-8069-859a8d6274bb"
      },
      "execution_count": 17,
      "outputs": [
        {
          "output_type": "stream",
          "name": "stdout",
          "text": [
            "Moo!\n",
            "Baa!\n"
          ]
        }
      ]
    },
    {
      "cell_type": "code",
      "source": [
        "#17. Create a class Book with attributes title, author, and year_published. Add a method get_book_info() that returns a formatted string with the book's details.\n",
        "class Book:\n",
        "    def __init__(self, title, author, year_published):\n",
        "        self.title = title\n",
        "        self.author = author\n",
        "        self.year_published = year_published\n",
        "\n",
        "    def get_book_info(self):\n",
        "        return f\"Title: {self.title}, Author: {self.author}, Year: {self.year_published}\"\n",
        "\n",
        "book = Book(\"The Hitchhiker's Guide to the Galaxy\", \"Douglas Adams\", 1979)\n",
        "book_info = book.get_book_info()\n",
        "print(book_info)\n"
      ],
      "metadata": {
        "colab": {
          "base_uri": "https://localhost:8080/"
        },
        "id": "vudy-PhAIhoy",
        "outputId": "7ec3d3f9-aded-4e2e-f6e0-2e003eb83629"
      },
      "execution_count": 18,
      "outputs": [
        {
          "output_type": "stream",
          "name": "stdout",
          "text": [
            "Title: The Hitchhiker's Guide to the Galaxy, Author: Douglas Adams, Year: 1979\n"
          ]
        }
      ]
    },
    {
      "cell_type": "code",
      "source": [
        "#18. Create a class House with attributes address and price. Create a derived class Mansion that adds an attribute number_of_rooms.\n",
        "class House:\n",
        "    def __init__(self, address, price):\n",
        "        self.address = address\n",
        "        self.price = price\n",
        "\n",
        "class Mansion(House):\n",
        "    def __init__(self, address, price, number_of_rooms):\n",
        "        super().__init__(address, price)\n",
        "        self.number_of_rooms = number_of_rooms\n",
        "\n",
        "house = House(\"123 Main St\", 500000)\n",
        "mansion = Mansion(\"456 Park Ave\", 2000000, 10)\n",
        "\n",
        "print(f\"House address: {house.address}, Price: ${house.price}\")\n",
        "print(f\"Mansion address: {mansion.address}, Price: ${mansion.price}, Rooms: {mansion.number_of_rooms}\")"
      ],
      "metadata": {
        "colab": {
          "base_uri": "https://localhost:8080/"
        },
        "id": "cRMlWvGJIhiZ",
        "outputId": "eb06aef8-b497-4465-cccf-603729d21869"
      },
      "execution_count": 19,
      "outputs": [
        {
          "output_type": "stream",
          "name": "stdout",
          "text": [
            "House address: 123 Main St, Price: $500000\n",
            "Mansion address: 456 Park Ave, Price: $2000000, Rooms: 10\n"
          ]
        }
      ]
    }
  ]
}